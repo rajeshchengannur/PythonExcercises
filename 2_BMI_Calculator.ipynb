{
  "nbformat": 4,
  "nbformat_minor": 0,
  "metadata": {
    "colab": {
      "provenance": [],
      "authorship_tag": "ABX9TyNM0/8q+KaL4BPVZqqQUdHX",
      "include_colab_link": true
    },
    "kernelspec": {
      "name": "python3",
      "display_name": "Python 3"
    },
    "language_info": {
      "name": "python"
    }
  },
  "cells": [
    {
      "cell_type": "markdown",
      "metadata": {
        "id": "view-in-github",
        "colab_type": "text"
      },
      "source": [
        "<a href=\"https://colab.research.google.com/github/rajeshchengannur/PythonExcercises/blob/main/2_BMI_Calculator.ipynb\" target=\"_parent\"><img src=\"https://colab.research.google.com/assets/colab-badge.svg\" alt=\"Open In Colab\"/></a>"
      ]
    },
    {
      "cell_type": "markdown",
      "source": [
        "#BMI \n",
        "BMI = weight in kg/(height in metre)^2"
      ],
      "metadata": {
        "id": "FA5MrzvtYG4_"
      }
    },
    {
      "cell_type": "code",
      "execution_count": 7,
      "metadata": {
        "colab": {
          "base_uri": "https://localhost:8080/"
        },
        "id": "rBrS19HAYAvp",
        "outputId": "7dc06237-1f77-4f37-b0d4-c2f348054a5a"
      },
      "outputs": [
        {
          "output_type": "stream",
          "name": "stdout",
          "text": [
            "Enter the height in Metre :1.77\n",
            "Enter the weight in Kg : 74\n",
            "Your bmi is 23.62 and you are Normal weight\n"
          ]
        }
      ],
      "source": [
        "height = float(input(\"Enter the height in Metre :\"))\n",
        "weight = float(input(\"Enter the weight in Kg : \"))\n",
        "bmi = weight /height**2\n",
        "bmi = round(bmi,2)\n",
        "if bmi < 18.5 :\n",
        "  bmiprint = \"Under weight\"\n",
        "elif bmi < 25 :\n",
        "  bmiprint = \"Normal weight\"\n",
        "elif bmi < 30 :\n",
        "  bmiprint = \"Over weight\"\n",
        "elif bmi < 35 :\n",
        "  bmiprint = \"Obese\"\n",
        "else :\n",
        "  bmiprint = \"Clinically Obese\"\n",
        "\n",
        "print(f\"Your bmi is {bmi} and you are {bmiprint}\")\n"
      ]
    },
    {
      "cell_type": "code",
      "source": [],
      "metadata": {
        "id": "xpIUPBkfa1Dt"
      },
      "execution_count": null,
      "outputs": []
    }
  ]
}