{
  "nbformat": 4,
  "nbformat_minor": 0,
  "metadata": {
    "colab": {
      "provenance": [],
      "collapsed_sections": [],
      "authorship_tag": "ABX9TyNaj9wi8bDkjnBnyVEvHbYO",
      "include_colab_link": true
    },
    "kernelspec": {
      "name": "python3",
      "display_name": "Python 3"
    },
    "language_info": {
      "name": "python"
    }
  },
  "cells": [
    {
      "cell_type": "markdown",
      "metadata": {
        "id": "view-in-github",
        "colab_type": "text"
      },
      "source": [
        "<a href=\"https://colab.research.google.com/github/rajeshchengannur/PythonExcercises/blob/main/1_Bill_Calculator.ipynb\" target=\"_parent\"><img src=\"https://colab.research.google.com/assets/colab-badge.svg\" alt=\"Open In Colab\"/></a>"
      ]
    },
    {
      "cell_type": "code",
      "execution_count": 1,
      "metadata": {
        "colab": {
          "base_uri": "https://localhost:8080/"
        },
        "id": "ZQFx6aVXRxaO",
        "outputId": "7ba4150e-dd34-4265-9b23-2ae02d1ed902"
      },
      "outputs": [
        {
          "output_type": "stream",
          "name": "stdout",
          "text": [
            "Welcome to the Tip calculator\n",
            "\n",
            "What was the total bill? $234\n",
            "How much tip would you like to give [10, 12 or 15%] ? 12\n",
            "How many people to split the bill ? 6\n",
            "Each person should pay :43.68\n"
          ]
        }
      ],
      "source": [
        "#If the bill was $150.00, split between 5 people, with 12% tip. \n",
        "print(\"Welcome to the Tip calculator\\n\")\n",
        "total_bill = float(input(\"What was the total bill? $\"))\n",
        "tip_amount = int(input(\"How much tip would you like to give [10, 12 or 15%] ? \"))\n",
        "people = int(input(\"How many people to split the bill ? \"))\n",
        "total_bill_amount = total_bill * tip_amount/100 + total_bill\n",
        "finalamount_per_person =total_bill_amount/people\n",
        "amount_per_person = \"{:.2f}\".format(finalamount_per_person)\n",
        "print(f\"Each person should pay :{amount_per_person}\" )\n",
        "#Each person should pay (150.00 / 5) * 1.12 = 33.6\n",
        "#Format the result to 2 decimal places = 33.60"
      ]
    },
    {
      "cell_type": "code",
      "source": [],
      "metadata": {
        "id": "yXBoJLFPR8gC"
      },
      "execution_count": null,
      "outputs": []
    }
  ]
}