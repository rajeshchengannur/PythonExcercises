{
  "nbformat": 4,
  "nbformat_minor": 0,
  "metadata": {
    "colab": {
      "provenance": [],
      "authorship_tag": "ABX9TyPbzXH0LncTqRQbJkg1r86M",
      "include_colab_link": true
    },
    "kernelspec": {
      "name": "python3",
      "display_name": "Python 3"
    },
    "language_info": {
      "name": "python"
    }
  },
  "cells": [
    {
      "cell_type": "markdown",
      "metadata": {
        "id": "view-in-github",
        "colab_type": "text"
      },
      "source": [
        "<a href=\"https://colab.research.google.com/github/rajeshchengannur/PythonExcercises/blob/main/4_ExampleRandom.ipynb\" target=\"_parent\"><img src=\"https://colab.research.google.com/assets/colab-badge.svg\" alt=\"Open In Colab\"/></a>"
      ]
    },
    {
      "cell_type": "markdown",
      "source": [
        "Check for Random and conditions\n"
      ],
      "metadata": {
        "id": "FA5MrzvtYG4_"
      }
    },
    {
      "cell_type": "code",
      "execution_count": 7,
      "metadata": {
        "colab": {
          "base_uri": "https://localhost:8080/"
        },
        "id": "rBrS19HAYAvp",
        "outputId": "705515d5-4f93-4d41-87f8-7501978482a9"
      },
      "outputs": [
        {
          "output_type": "stream",
          "name": "stdout",
          "text": [
            "What do you choose? Type 0 for Rock, 1 for Paper or 2 for Scissors.\n",
            "2\n",
            "\n",
            "    _______\n",
            "---'   ____)____\n",
            "          ______)\n",
            "       __________)\n",
            "      (____)\n",
            "---.__(___)\n",
            "\n",
            "Computer chose: 2\n",
            "\n",
            "    _______\n",
            "---'   ____)____\n",
            "          ______)\n",
            "       __________)\n",
            "      (____)\n",
            "---.__(___)\n",
            "\n",
            "It's a draw\n"
          ]
        }
      ],
      "source": [
        "import random\n",
        "\n",
        "rock = '''\n",
        "    _______\n",
        "---'   ____)\n",
        "      (_____)\n",
        "      (_____)\n",
        "      (____)\n",
        "---.__(___)\n",
        "'''\n",
        "\n",
        "paper = '''\n",
        "    _______\n",
        "---'   ____)____\n",
        "          ______)\n",
        "          _______)\n",
        "         _______)\n",
        "---.__________)\n",
        "'''\n",
        "\n",
        "scissors = '''\n",
        "    _______\n",
        "---'   ____)____\n",
        "          ______)\n",
        "       __________)\n",
        "      (____)\n",
        "---.__(___)\n",
        "'''\n",
        "\n",
        "game_images = [rock, paper, scissors]\n",
        "\n",
        "user_choice = int(input(\"What do you choose? Type 0 for Rock, 1 for Paper or 2 for Scissors.\\n\"))\n",
        "\n",
        "if user_choice >= 3 or user_choice < 0: \n",
        "  print(\"You typed an invalid number, you lose!\") \n",
        "else :\n",
        "  print(game_images[user_choice])\n",
        "  computer_choice = random.randint(0, 2)\n",
        "  print(f\"Computer chose: {computer_choice}\")\n",
        "  print(game_images[computer_choice])\n",
        "\n",
        "  if user_choice == 0 and computer_choice == 2:\n",
        "    print(\"You win!\")\n",
        "  elif computer_choice == 0 and user_choice == 2:\n",
        "    print(\"You lose\")\n",
        "  elif computer_choice > user_choice:\n",
        "    print(\"You lose\")\n",
        "  elif user_choice > computer_choice:\n",
        "    print(\"You win!\")\n",
        "  elif computer_choice == user_choice:\n",
        "    print(\"It's a draw\")\n",
        "\n"
      ]
    },
    {
      "cell_type": "code",
      "source": [],
      "metadata": {
        "id": "xpIUPBkfa1Dt"
      },
      "execution_count": null,
      "outputs": []
    }
  ]
}